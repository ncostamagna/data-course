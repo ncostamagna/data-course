{
 "cells": [
  {
   "cell_type": "markdown",
   "id": "4e6c2876",
   "metadata": {},
   "source": [
    "# Distribucion Bernuli\n",
    "X como VA que mide el numero de exitos\n",
    "\n",
    "$$X = Be(p)$$\n",
    "\n",
    "- 1 exito\n",
    "- 0 fracaso \n",
    "\n",
    "Tiras una moneda al aire y el exito sera cara y fracaso cruz\n",
    "\n",
    "- p es la probabilidad de exito\n",
    "- y q = p - 1 la probabilidad de fracaso\n",
    "\n",
    "```py\n",
    "bernoulli.pmf(1,0.7)\n",
    "bernoulli.rvs(p, size = 1000)\n",
    "```"
   ]
  },
  {
   "cell_type": "code",
   "execution_count": 1,
   "id": "a3411fdc",
   "metadata": {},
   "outputs": [],
   "source": [
    "from scipy.stats import bernoulli\n",
    "import matplotlib.pyplot as plt"
   ]
  },
  {
   "cell_type": "code",
   "execution_count": 13,
   "id": "6e35413c",
   "metadata": {},
   "outputs": [
    {
     "data": {
      "text/plain": [
       "0.30000000000000004"
      ]
     },
     "execution_count": 13,
     "metadata": {},
     "output_type": "execute_result"
    }
   ],
   "source": [
    "# probabilidad de exito o fracaso\n",
    "bernoulli.pmf(1,0.7) # 0.7\n",
    "bernoulli.pmf(0,0.7) # 0.3"
   ]
  },
  {
   "cell_type": "code",
   "execution_count": 4,
   "id": "241bbe05",
   "metadata": {},
   "outputs": [
    {
     "data": {
      "image/png": "[encoded data removed]",
      "text/plain": [
       "<Figure size 432x288 with 1 Axes>"
      ]
     },
     "metadata": {
      "needs_background": "light"
     },
     "output_type": "display_data"
    }
   ],
   "source": [
    "p = 0.7\n",
    "fix, ax = plt.subplots(1,1)\n",
    "x = bernoulli.rvs(p, size = 1000)\n",
    "ax.hist(x)\n",
    "plt.show()"
   ]
  },
  {
   "cell_type": "markdown",
   "id": "49d66985",
   "metadata": {},
   "source": [
    "# Distribucion Binomial\n",
    "\n",
    "No solo exito y fracaso, sino tambien el numero de exitos (numero de ensayos)\n",
    "\n",
    "$$X = B(n,p)$$\n",
    "\n",
    "- n: numero de veces\n",
    "- p: probabilidad de exito\n",
    "- q: probabilidad de fracaso\n",
    "\n",
    "de n valores, la probabilidad que tenga un exito de k veces.\n",
    "\n",
    "Tiro 7 veces la moneda al aire, que probabilidad tengo que me salgan 3 caras\n",
    "\n",
    "```py\n",
    "binom.pmf(2, 7, 0.5)\n",
    "binom.rvs(n, p, size = 10000)\n",
    "```"
   ]
  },
  {
   "cell_type": "code",
   "execution_count": 57,
   "id": "a37a0a3e",
   "metadata": {},
   "outputs": [],
   "source": [
    "from scipy.stats import binom \n",
    "import matplotlib.pyplot as plt\n",
    "import numpy as np"
   ]
  },
  {
   "cell_type": "code",
   "execution_count": 141,
   "id": "ffd151bf",
   "metadata": {},
   "outputs": [
    {
     "data": {
      "text/plain": [
       "0.16406250000000003"
      ]
     },
     "execution_count": 141,
     "metadata": {},
     "output_type": "execute_result"
    }
   ],
   "source": [
    "# de 7, la posibilidad que salgan 2 (ni mas ni menos) exitos con una probabilidad de 50%\n",
    "binom.pmf(2, 7, 0.5)"
   ]
  },
  {
   "cell_type": "code",
   "execution_count": 140,
   "id": "fb178d4d",
   "metadata": {},
   "outputs": [
    {
     "data": {
      "text/plain": [
       "1.0"
      ]
     },
     "execution_count": 140,
     "metadata": {},
     "output_type": "execute_result"
    }
   ],
   "source": [
    "binom.cdf(45,50,0.1) # amuculada"
   ]
  },
  {
   "cell_type": "code",
   "execution_count": 51,
   "id": "b3cf06ee",
   "metadata": {},
   "outputs": [
    {
     "data": {
      "image/png": "[encoded data removed]",
      "text/plain": [
       "<Figure size 432x288 with 1 Axes>"
      ]
     },
     "metadata": {
      "needs_background": "light"
     },
     "output_type": "display_data"
    }
   ],
   "source": [
    "\n",
    "n = 7\n",
    "p = 0.5\n",
    "fig, ax = plt.subplots(1,1)\n",
    "r = binom.rvs(n, p, size = 10000)\n",
    "ax.hist(r, bins = n)\n",
    "plt.show()"
   ]
  },
  {
   "cell_type": "markdown",
   "id": "b19b4073",
   "metadata": {},
   "source": [
    "# Distribucion Geometrica\n",
    "\n",
    "X mide el numero de repeticiones HASTA haber conseguido el exito\n",
    "\n",
    "$$X = Ge(p)$$\n",
    "\n",
    "- p: probabilidad de exitos\n",
    "- q = 1 - p: probabilidad de fracasos\n",
    "\n"
   ]
  },
  {
   "cell_type": "code",
   "execution_count": 59,
   "id": "c7a9098c",
   "metadata": {},
   "outputs": [],
   "source": [
    "from scipy.stats import geom\n",
    "import matplotlib.pyplot as plt\n",
    "import numpy as np"
   ]
  },
  {
   "cell_type": "code",
   "execution_count": 88,
   "id": "583a11d6",
   "metadata": {},
   "outputs": [
    {
     "data": {
      "text/plain": [
       "0.08100000000000002"
      ]
     },
     "execution_count": 88,
     "metadata": {},
     "output_type": "execute_result"
    }
   ],
   "source": [
    "geom.pmf(3,0.1) # probalidad que sea exito en la 3ra repeticion"
   ]
  },
  {
   "cell_type": "code",
   "execution_count": 55,
   "id": "cbce37f9",
   "metadata": {},
   "outputs": [
    {
     "data": {
      "image/png": "[encoded data removed]",
      "text/plain": [
       "<Figure size 432x288 with 1 Axes>"
      ]
     },
     "metadata": {
      "needs_background": "light"
     },
     "output_type": "display_data"
    }
   ],
   "source": [
    "p = 0.3\n",
    "fig, ax = plt.subplots(1,1)\n",
    "r = geom.rvs(p, size = 10000)\n",
    "plt.hist(r)\n",
    "plt.show()"
   ]
  },
  {
   "cell_type": "code",
   "execution_count": null,
   "id": "3394f50f",
   "metadata": {},
   "outputs": [],
   "source": [
    "]"
   ]
  }
 ],
 "metadata": {
  "kernelspec": {
   "display_name": "Python 3 (ipykernel)",
   "language": "python",
   "name": "python3"
  },
  "language_info": {
   "codemirror_mode": {
    "name": "ipython",
    "version": 3
   },
   "file_extension": ".py",
   "mimetype": "text/x-python",
   "name": "python",
   "nbconvert_exporter": "python",
   "pygments_lexer": "ipython3",
   "version": "3.9.7"
  }
 },
 "nbformat": 4,
 "nbformat_minor": 5
}
