{
 "cells": [
  {
   "cell_type": "markdown",
   "id": "3d018273",
   "metadata": {},
   "source": [
    "# Indices\n",
    "- [Matrices](#Matrices)\n",
    "    - [Matriz Fila](#Matriz-Fila)\n",
    "    - [Matriz Columna](#Matriz-Columna)\n",
    "    - [Matriz Nula](#Matriz-Nula)\n",
    "    - [Matriz Cuadrada](#Matriz-Cuadrada)\n",
    "    - [Matriz Diagonal](#Matriz-Diagonal)\n",
    "    - [Matriz Escalar](#Matriz-Escalar)\n",
    "    - [Matriz Identidad](#Matriz-Identidad)\n",
    "    - [Matriz triangular superior](#Matriz-triangular-superior)\n",
    "    - [Matriz triangular inferior](#Matriz->triangular-inferior)\n",
    "    - [Matriz Traspuesta](#Matriz-Traspuesta)\n",
    "    - [Matriz Simetrica](#Matriz-Simetrica)\n",
    "    - [Matriz Asimetrica](#Matriz_Asimetrica)\n",
    "- [Operaciones con matrices](#Operaciones-con-matrices)\n",
    "    - [Suma](#Suma)\n",
    "    - [Producto por un Escalar](#Producto-por-un-Escalar)\n",
    "    - [Producto de Matrices](#Producto-de-Matrices)\n",
    "    - [Inversa](#Inversa)"
   ]
  },
  {
   "cell_type": "markdown",
   "id": "513c382d",
   "metadata": {},
   "source": [
    "# Matrices\n",
    "\n",
    "\n",
    "Tabla formada por **m** filas y **n** columnas, conjunto e vectores\n",
    "\n",
    "$\\begin{pmatrix} a_{11} & a_{12} & a_{13} & a_{14} & ... & a_{1n} \\\\\n",
    "a_{21} & a_{22} & a_{23} & a_{24} & ... & a_{2n} \\\\ \n",
    "a_{31} & a_{32} & a_{33} & a_{34} & ... & a_{3n} \\\\ \n",
    "a_{41} & a_{42} & a_{43} & a_{44} & ... & a_{4n} \\\\\n",
    "... & ... & ... & ... & ... & ... \\\\\n",
    "a_{m1} & a_{m2} & a_{m3} & a_{m4} & ... & a_{mn} \\\\\n",
    "\\end{pmatrix}$"
   ]
  },
  {
   "cell_type": "code",
   "execution_count": 2,
   "id": "7d6e6d6d",
   "metadata": {},
   "outputs": [],
   "source": [
    "import numpy as np"
   ]
  },
  {
   "cell_type": "markdown",
   "id": "ba7e9f9b",
   "metadata": {},
   "source": [
    "## Matriz Fila\n",
    "  $\\begin{pmatrix} 1 & 2 & 3 \\end{pmatrix}$"
   ]
  },
  {
   "cell_type": "code",
   "execution_count": 10,
   "id": "a75edcb7",
   "metadata": {},
   "outputs": [
    {
     "data": {
      "text/plain": [
       "array([[1, 2, 3]])"
      ]
     },
     "execution_count": 10,
     "metadata": {},
     "output_type": "execute_result"
    }
   ],
   "source": [
    "np.array([[1,2,3]])"
   ]
  },
  {
   "cell_type": "markdown",
   "id": "3f6e87fb",
   "metadata": {},
   "source": [
    "## Matriz Columna\n",
    "  $\\begin{pmatrix} 1 \\\\ 2 \\\\ 3 \\end{pmatrix}$"
   ]
  },
  {
   "cell_type": "code",
   "execution_count": 11,
   "id": "9a6ef7a9",
   "metadata": {},
   "outputs": [
    {
     "data": {
      "text/plain": [
       "array([[1],\n",
       "       [2],\n",
       "       [3]])"
      ]
     },
     "execution_count": 11,
     "metadata": {},
     "output_type": "execute_result"
    }
   ],
   "source": [
    "np.array([[1],[2],[3]])"
   ]
  },
  {
   "cell_type": "markdown",
   "id": "301a1065",
   "metadata": {},
   "source": [
    "## Matriz Nula\n",
    "Cuando todos sus elementos son nulos\n",
    "\n",
    " $\\begin{pmatrix} 0 & 0 & 0 & 0 \\\\ 0 & 0 & 0 & 0 \\\\ 0 & 0 & 0 & 0 \\end{pmatrix}$"
   ]
  },
  {
   "cell_type": "code",
   "execution_count": 12,
   "id": "5ad2c1f4",
   "metadata": {},
   "outputs": [
    {
     "data": {
      "text/plain": [
       "array([[0., 0., 0., 0.],\n",
       "       [0., 0., 0., 0.],\n",
       "       [0., 0., 0., 0.]])"
      ]
     },
     "execution_count": 12,
     "metadata": {},
     "output_type": "execute_result"
    }
   ],
   "source": [
    "np.zeros((3,4))"
   ]
  },
  {
   "cell_type": "markdown",
   "id": "6aac22c2",
   "metadata": {},
   "source": [
    "## Matriz Cuadrada\n",
    "Cuando filas y columnas son iguales\n",
    "\n",
    "ejemplo: cuadrada de orden 4\n",
    "\n",
    " $\\begin{pmatrix} 1 & 2 & 3 & 3 \\\\ 7 & 8 & 9 & 1 \\\\ 12 & 11 & 23 & 9 \\\\ 2 & 31 & 63 & 19 \\end{pmatrix}$"
   ]
  },
  {
   "cell_type": "code",
   "execution_count": 13,
   "id": "1b526cf2",
   "metadata": {},
   "outputs": [
    {
     "data": {
      "text/plain": [
       "array([[ 1,  2,  3,  3],\n",
       "       [ 7,  8,  9,  1],\n",
       "       [12, 11, 23,  9],\n",
       "       [ 2, 31, 63, 19]])"
      ]
     },
     "execution_count": 13,
     "metadata": {},
     "output_type": "execute_result"
    }
   ],
   "source": [
    "np.array([\n",
    "    [1, 2, 3, 3],\n",
    "    [7 ,8 ,9 ,1 ],\n",
    "    [12 ,11 ,23 ,9 ],\n",
    "    [ 2, 31, 63, 19]])"
   ]
  },
  {
   "cell_type": "markdown",
   "id": "727653ea",
   "metadata": {},
   "source": [
    "## Matriz Diagonal\n",
    "\n",
    "Se denomina **Diagonal Principal** a la diagonal de la matriz que va de [A11, A22, ... Amn]\n",
    "\n",
    "Una matriz diagonal es la que tienen todos sus elementos, a excepcion de la diagonal principal, en nulo\n",
    "\n",
    " $\\begin{pmatrix} 1 & 0 & 0 & 0 \\\\ 0 & 8 & 0 & 0 \\\\ 0 & 0 & 23 & 0 \\\\ 0 & 0 & 0 & 19 \\end{pmatrix}$"
   ]
  },
  {
   "cell_type": "code",
   "execution_count": 14,
   "id": "0ab8fd43",
   "metadata": {},
   "outputs": [
    {
     "data": {
      "text/plain": [
       "array([[ 1,  0,  0,  0],\n",
       "       [ 0,  8,  0,  0],\n",
       "       [ 0,  0, 23,  0],\n",
       "       [ 0,  0,  0, 19]])"
      ]
     },
     "execution_count": 14,
     "metadata": {},
     "output_type": "execute_result"
    }
   ],
   "source": [
    "np.array([\n",
    "    [1, 0, 0, 0],\n",
    "    [0 ,8 ,0 ,0 ],\n",
    "    [0 ,0 ,23 ,0 ],\n",
    "    [ 0, 0, 0, 19]])"
   ]
  },
  {
   "cell_type": "markdown",
   "id": "6c5426a5",
   "metadata": {},
   "source": [
    "## Matriz Escalar\n",
    "\n",
    "\n",
    "Una matriz escapar es una matriz diagonal, con la diagonal principal con los mismos valores\n",
    "\n",
    " $\\begin{pmatrix} 4 & 0 & 0 & 0 \\\\ 0 & 4 & 0 & 0 \\\\ 0 & 0 & 4 & 0 \\\\ 0 & 0 & 0 & 4 \\end{pmatrix}$"
   ]
  },
  {
   "cell_type": "code",
   "execution_count": 15,
   "id": "c1e0639f",
   "metadata": {},
   "outputs": [
    {
     "data": {
      "text/plain": [
       "array([[4, 0, 0, 0],\n",
       "       [0, 4, 0, 0],\n",
       "       [0, 0, 4, 0],\n",
       "       [0, 0, 0, 4]])"
      ]
     },
     "execution_count": 15,
     "metadata": {},
     "output_type": "execute_result"
    }
   ],
   "source": [
    "np.array([\n",
    "    [4, 0, 0, 0],\n",
    "    [0 ,4 ,0 ,0 ],\n",
    "    [0 ,0 ,4 ,0 ],\n",
    "    [ 0, 0, 0, 4]])"
   ]
  },
  {
   "cell_type": "markdown",
   "id": "fac8c488",
   "metadata": {},
   "source": [
    "## Matriz Identidad\n",
    "\n",
    "\n",
    "La matriz identidad, es una matriz escalar con todos los elementos de la diagonal principal en 1\n",
    "\n",
    " $\\begin{pmatrix} 1 & 0 & 0 & 0 \\\\ 0 & 1 & 0 & 0 \\\\ 0 & 0 & 1 & 0 \\\\ 0 & 0 & 0 & 1 \\end{pmatrix}$"
   ]
  },
  {
   "cell_type": "code",
   "execution_count": 16,
   "id": "ccee8224",
   "metadata": {},
   "outputs": [
    {
     "data": {
      "text/plain": [
       "array([[1., 0., 0., 0.],\n",
       "       [0., 1., 0., 0.],\n",
       "       [0., 0., 1., 0.],\n",
       "       [0., 0., 0., 1.]])"
      ]
     },
     "execution_count": 16,
     "metadata": {},
     "output_type": "execute_result"
    }
   ],
   "source": [
    "np.identity(4)"
   ]
  },
  {
   "cell_type": "markdown",
   "id": "bc1c0db5",
   "metadata": {},
   "source": [
    "## Matriz triangular superior\n",
    "\n",
    "La Matriz triangular superior tiene todos sus elementos inferiores a la diagonal principal en nulo\n",
    "\n",
    " $\\begin{pmatrix} 1 & 2 & 2 & 1 \\\\ 0 & 3 & 5 & 9 \\\\ 0 & 0 & 4 & 2 \\\\ 0 & 0 & 0 & 1 \\end{pmatrix}$"
   ]
  },
  {
   "cell_type": "code",
   "execution_count": 17,
   "id": "23d1fc13",
   "metadata": {},
   "outputs": [
    {
     "data": {
      "text/plain": [
       "array([[1, 2, 2, 1],\n",
       "       [0, 3, 5, 9],\n",
       "       [0, 0, 4, 2],\n",
       "       [0, 0, 0, 1]])"
      ]
     },
     "execution_count": 17,
     "metadata": {},
     "output_type": "execute_result"
    }
   ],
   "source": [
    "np.array([\n",
    "    [1, 2, 2, 1],\n",
    "    [0 ,3 ,5 ,9 ],\n",
    "    [0 ,0 ,4 ,2 ],\n",
    "    [ 0, 0, 0, 1]])"
   ]
  },
  {
   "cell_type": "markdown",
   "id": "603c1db9",
   "metadata": {},
   "source": [
    "## Matriz triangular inferior\n",
    "\n",
    "La Matriz triangular inferior tiene todos sus elementos superiores a la diagonal principal en nulo\n",
    "\n",
    " $\\begin{pmatrix} 1 & 0 & 0 & 0 \\\\ 2 & 3 & 0 & 0 \\\\ 3 & 4 & 4 & 0 \\\\ 2 & 2 & 4 & 1 \\end{pmatrix}$"
   ]
  },
  {
   "cell_type": "code",
   "execution_count": 18,
   "id": "3f90c7e3",
   "metadata": {},
   "outputs": [
    {
     "data": {
      "text/plain": [
       "array([[1, 0, 0, 0],\n",
       "       [2, 3, 0, 0],\n",
       "       [3, 4, 4, 0],\n",
       "       [2, 2, 4, 1]])"
      ]
     },
     "execution_count": 18,
     "metadata": {},
     "output_type": "execute_result"
    }
   ],
   "source": [
    "np.array([\n",
    "    [1, 0, 0, 0],\n",
    "    [2 ,3 ,0 ,0 ],\n",
    "    [3 ,4 ,4 ,0 ],\n",
    "    [2, 2, 4, 1]])"
   ]
  },
  {
   "cell_type": "markdown",
   "id": "b5bebd05",
   "metadata": {},
   "source": [
    "## Matriz Traspuesta\n",
    "La Traspuesta de una matriz A, es igual a A cambiado filas por columnas\n",
    "\n",
    "$A = \\begin{pmatrix} 5 & -2 & 1 \\\\ 2 & -3 & 2 \\end{pmatrix}$\n",
    "\n",
    "$A^t = \\begin{pmatrix} 5 & 2 \\\\ -2 & -3 \\\\ 1 & 2 \\end{pmatrix}$"
   ]
  },
  {
   "cell_type": "code",
   "execution_count": 15,
   "id": "30210df6",
   "metadata": {},
   "outputs": [
    {
     "data": {
      "text/plain": [
       "array([[ 5,  2],\n",
       "       [-2, -3],\n",
       "       [ 1,  2]])"
      ]
     },
     "execution_count": 15,
     "metadata": {},
     "output_type": "execute_result"
    }
   ],
   "source": [
    "A = np.array([\n",
    "    [5, -2, 1],\n",
    "    [2 ,-3 ,2]])\n",
    "\n",
    "np.transpose(A)"
   ]
  },
  {
   "cell_type": "markdown",
   "id": "123c10e9",
   "metadata": {},
   "source": [
    "## Matriz Simetrica\n",
    "Es simetrica cuando coincide con su traspuesta\n",
    "\n",
    "$A = \\begin{pmatrix} 5 & -2 \\\\ -2 & 5  \\end{pmatrix}$\n",
    "\n",
    "$A^t = \\begin{pmatrix} 5 & -2 \\\\ -2 & 5  \\end{pmatrix}$\n",
    "\n",
    "## Matriz Asimetrica\n",
    "Es asimetrica cuando NO coincide con su traspuesta\n",
    "\n",
    "$A = \\begin{pmatrix} 5 & -1 \\\\ -2 & 5  \\end{pmatrix}$\n",
    "\n",
    "$A^t = \\begin{pmatrix} 5 & -2 \\\\ -1 & 5  \\end{pmatrix}$"
   ]
  },
  {
   "cell_type": "markdown",
   "id": "a22e0b7a",
   "metadata": {},
   "source": [
    "# Operaciones con matrices\n",
    "\n",
    "\n",
    "## Suma\n",
    "Solo se pueden sumar matrices si tienen el mismo orden **m x n**, se suma termino a termino\n",
    "\n",
    " $A = \\begin{pmatrix} 1 & 0 & 0 & 0 \\\\ 2 & 3 & 0 & 0 \\\\ 3 & 4 & 4 & 0 \\end{pmatrix}$\n",
    " \n",
    " $B = \\begin{pmatrix} 5 & -2 & 1 & 9 \\\\ 2 & -3 & 2 & -1 \\\\ -3 & 4 & 4 & -1 \\end{pmatrix}$\n",
    " \n",
    " $A + B = \\begin{pmatrix} 6 & -2 & 1 & 9 \\\\ 4 & 0 & 2 & -1 \\\\ 0 & 8 & 8 & -1 \\end{pmatrix}$"
   ]
  },
  {
   "cell_type": "code",
   "execution_count": 12,
   "id": "896d0e8e",
   "metadata": {},
   "outputs": [
    {
     "data": {
      "text/plain": [
       "array([[ 6, -2,  1,  9],\n",
       "       [ 4,  0,  2, -1],\n",
       "       [ 0,  8,  8, -1]])"
      ]
     },
     "execution_count": 12,
     "metadata": {},
     "output_type": "execute_result"
    }
   ],
   "source": [
    "A = np.array([\n",
    "    [1, 0, 0, 0],\n",
    "    [2 ,3 ,0 ,0 ],\n",
    "    [3 ,4 ,4 ,0 ]])\n",
    "\n",
    "B = np.array([\n",
    "    [5, -2, 1, 9],\n",
    "    [2 ,-3 ,2 ,-1 ],\n",
    "    [-3 ,4 ,4 ,-1 ]])\n",
    "\n",
    "A + B"
   ]
  },
  {
   "cell_type": "markdown",
   "id": "8d07a938",
   "metadata": {},
   "source": [
    "## Producto por un Escalar\n",
    "\n",
    "Se multimplica todos los elementos de la matriz con el escalar\n",
    "\n",
    "$A = \\begin{pmatrix} 5 & -2 & 1 & 9 \\\\ 2 & -3 & 2 & -1 \\end{pmatrix}$\n",
    "\n",
    "$A*3 = \\begin{pmatrix} 15 & -6 & 3 & 27 \\\\ 6 & -9 & 6 & -3 \\end{pmatrix}$\n"
   ]
  },
  {
   "cell_type": "code",
   "execution_count": 13,
   "id": "eab2c404",
   "metadata": {},
   "outputs": [
    {
     "data": {
      "text/plain": [
       "array([[15, -6,  3, 27],\n",
       "       [ 6, -9,  6, -3]])"
      ]
     },
     "execution_count": 13,
     "metadata": {},
     "output_type": "execute_result"
    }
   ],
   "source": [
    "A = np.array([\n",
    "    [5, -2, 1, 9],\n",
    "    [2 ,-3 ,2 ,-1 ]])\n",
    "\n",
    "A*3"
   ]
  },
  {
   "cell_type": "markdown",
   "id": "02691836",
   "metadata": {},
   "source": [
    "## Producto de Matrices\n",
    "Para poder multiplicar 2 matrices, la matriz A debe tener el mismo numero de columnas que filas de la matriz B\n",
    "\n",
    "$A = \\begin{pmatrix} 5 & -2 & 1 \\\\ 2 & -3 & 2 \\end{pmatrix}$\n",
    "\n",
    "$B = \\begin{pmatrix} 5 & -2 \\\\ 2 & -3 \\\\ 1 & -1 \\end{pmatrix}$\n",
    "\n",
    "$A*B = \\begin{pmatrix} 5*5 + 2*(-2) + 1*1 & 5*(-2) + (-2)*(-3) - 1*1  \\\\ 2*5 + (-3)*2 + 2*1 & 2*(-2) + (-3)*(-3) + 2*(-1)  \\end{pmatrix} = \\begin{pmatrix} 22 & -5 \\\\ 6 & 3 \\end{pmatrix} $\n"
   ]
  },
  {
   "cell_type": "code",
   "execution_count": 11,
   "id": "563120fd",
   "metadata": {},
   "outputs": [
    {
     "data": {
      "text/plain": [
       "array([[22, -5],\n",
       "       [ 6,  3]])"
      ]
     },
     "execution_count": 11,
     "metadata": {},
     "output_type": "execute_result"
    }
   ],
   "source": [
    "A = np.array([\n",
    "    [5, -2, 1],\n",
    "    [2 ,-3 ,2]])\n",
    "\n",
    "B = np.array([\n",
    "    [5, -2],\n",
    "    [2 ,-3],\n",
    "    [1,-1]])\n",
    "\n",
    "np.dot(A,B)"
   ]
  },
  {
   "cell_type": "markdown",
   "id": "1e666e26",
   "metadata": {},
   "source": [
    "## Inversa\n",
    "La inversa de una matriz A, es con la cual multiplicamos A con su inversa y nos da la **matriz identidad**. (Si es que la matrz tiene inversa)\n",
    "\n",
    "$A = \\begin{pmatrix} 2 & 2 & -1 \\\\ 2 & 0 & 1 \\\\ 1 & 3 & -2 \\end{pmatrix}$\n",
    "\n",
    "$A^{-1} = \\begin{pmatrix} 1.5 & -0.5 & -1 \\\\ -2.5 & 1.5 & 2 \\\\ -3 & 2 & 2 \\end{pmatrix}$\n",
    "\n",
    "$A*A^{-1} = \\begin{pmatrix} 1 & 0 & 0 \\\\ 0 & 1 & 0 \\\\ 0 & 0 & 1 \\end{pmatrix}$"
   ]
  },
  {
   "cell_type": "code",
   "execution_count": 32,
   "id": "f01ca5d1",
   "metadata": {},
   "outputs": [
    {
     "name": "stdout",
     "output_type": "stream",
     "text": [
      "[[ 2  2 -1]\n",
      " [ 2  0  1]\n",
      " [ 1  3 -2]] \n",
      "\n",
      "[[ 1.5 -0.5 -1. ]\n",
      " [-2.5  1.5  2. ]\n",
      " [-3.   2.   2. ]] \n",
      "\n",
      "[[1. 0. 0.]\n",
      " [0. 1. 0.]\n",
      " [0. 0. 1.]]\n"
     ]
    }
   ],
   "source": [
    "A = np.array([\n",
    "    [2,2,-1],\n",
    "    [2,0,1],\n",
    "    [1,3,-2]])\n",
    "print(A,\"\\n\")\n",
    "\n",
    "A_i = np.linalg.inv(A)\n",
    "print(A_i,\"\\n\")\n",
    "\n",
    "print(np.dot(A,A_i))"
   ]
  }
 ],
 "metadata": {
  "kernelspec": {
   "display_name": "Python 3 (ipykernel)",
   "language": "python",
   "name": "python3"
  },
  "language_info": {
   "codemirror_mode": {
    "name": "ipython",
    "version": 3
   },
   "file_extension": ".py",
   "mimetype": "text/x-python",
   "name": "python",
   "nbconvert_exporter": "python",
   "pygments_lexer": "ipython3",
   "version": "3.9.7"
  }
 },
 "nbformat": 4,
 "nbformat_minor": 5
}
