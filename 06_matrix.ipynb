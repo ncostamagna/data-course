{
 "cells": [
  {
   "cell_type": "markdown",
   "id": "513c382d",
   "metadata": {},
   "source": [
    "# Matrices\n",
    "\n",
    "\n",
    "Tabla formada por **m** filas y **n** columnas, conjunto e vectores\n",
    "\n",
    "$\\begin{pmatrix} a_{11} & a_{12} & a_{13} & a_{14} & ... & a_{1n} \\\\\n",
    "a_{21} & a_{22} & a_{23} & a_{24} & ... & a_{2n} \\\\ \n",
    "a_{31} & a_{32} & a_{33} & a_{34} & ... & a_{3n} \\\\ \n",
    "a_{41} & a_{42} & a_{43} & a_{44} & ... & a_{4n} \\\\\n",
    "... & ... & ... & ... & ... & ... \\\\\n",
    "a_{m1} & a_{m2} & a_{m3} & a_{m4} & ... & a_{mn} \\\\\n",
    "\\end{pmatrix}$"
   ]
  },
  {
   "cell_type": "code",
   "execution_count": 11,
   "id": "7d6e6d6d",
   "metadata": {},
   "outputs": [],
   "source": [
    "import numpy as np"
   ]
  },
  {
   "cell_type": "markdown",
   "id": "ba7e9f9b",
   "metadata": {},
   "source": [
    "## Matriz Fila\n",
    "  $\\begin{pmatrix} 1 & 2 & 3 \\end{pmatrix}$"
   ]
  },
  {
   "cell_type": "code",
   "execution_count": 12,
   "id": "a75edcb7",
   "metadata": {},
   "outputs": [
    {
     "data": {
      "text/plain": [
       "array([[1, 2, 3]])"
      ]
     },
     "execution_count": 12,
     "metadata": {},
     "output_type": "execute_result"
    }
   ],
   "source": [
    "np.array([[1,2,3]])"
   ]
  },
  {
   "cell_type": "markdown",
   "id": "3f6e87fb",
   "metadata": {},
   "source": [
    "## Matriz Columna\n",
    "  $\\begin{pmatrix} 1 \\\\ 2 \\\\ 3 \\end{pmatrix}$"
   ]
  },
  {
   "cell_type": "code",
   "execution_count": 13,
   "id": "9a6ef7a9",
   "metadata": {},
   "outputs": [
    {
     "data": {
      "text/plain": [
       "array([[1],\n",
       "       [2],\n",
       "       [3]])"
      ]
     },
     "execution_count": 13,
     "metadata": {},
     "output_type": "execute_result"
    }
   ],
   "source": [
    "np.array([[1],[2],[3]])"
   ]
  },
  {
   "cell_type": "markdown",
   "id": "301a1065",
   "metadata": {},
   "source": [
    "## Matriz Nula\n",
    "Cuando todos sus elementos son nulos\n",
    "\n",
    " $\\begin{pmatrix} 0 & 0 & 0 \\\\ 0 & 0 & 0 \\\\ 0 & 0 & 0 \\end{pmatrix}$"
   ]
  },
  {
   "cell_type": "code",
   "execution_count": 14,
   "id": "5ad2c1f4",
   "metadata": {},
   "outputs": [
    {
     "data": {
      "text/plain": [
       "array([[0., 0., 0.],\n",
       "       [0., 0., 0.],\n",
       "       [0., 0., 0.]])"
      ]
     },
     "execution_count": 14,
     "metadata": {},
     "output_type": "execute_result"
    }
   ],
   "source": [
    "np.zeros((3,3))"
   ]
  },
  {
   "cell_type": "markdown",
   "id": "6aac22c2",
   "metadata": {},
   "source": [
    "## Matriz Cuadrada\n",
    "Cuando filas y columnas son iguales\n",
    "\n",
    "ejemplo: cuadrada de orden 4\n",
    "\n",
    " $\\begin{pmatrix} 1 & 2 & 3 & 3 \\\\ 7 & 8 & 9 & 1 \\\\ 12 & 11 & 23 & 9 \\\\ 2 & 31 & 63 & 19 \\end{pmatrix}$"
   ]
  },
  {
   "cell_type": "code",
   "execution_count": 16,
   "id": "1b526cf2",
   "metadata": {},
   "outputs": [
    {
     "data": {
      "text/plain": [
       "array([[ 1,  2,  3,  3],\n",
       "       [ 7,  8,  9,  1],\n",
       "       [12, 11, 23,  9],\n",
       "       [ 2, 31, 63, 19]])"
      ]
     },
     "execution_count": 16,
     "metadata": {},
     "output_type": "execute_result"
    }
   ],
   "source": [
    "np.array([\n",
    "    [1, 2, 3, 3],\n",
    "    [7 ,8 ,9 ,1 ],\n",
    "    [12 ,11 ,23 ,9 ],\n",
    "    [ 2, 31, 63, 19]])"
   ]
  },
  {
   "cell_type": "markdown",
   "id": "727653ea",
   "metadata": {},
   "source": [
    "## Matriz Diagonal\n",
    "\n",
    "Se denomina **Diagonal Principal** a la diagonal de la matriz que va de [A11, A22, ... Amn]\n",
    "\n",
    "Una matriz diagonal es la que tienen todos sus elementos, a excepcion de la diagonal principal, en nulo\n",
    "\n",
    " $\\begin{pmatrix} 1 & 0 & 0 & 0 \\\\ 0 & 8 & 0 & 0 \\\\ 0 & 0 & 23 & 0 \\\\ 0 & 0 & 0 & 19 \\end{pmatrix}$"
   ]
  },
  {
   "cell_type": "code",
   "execution_count": 17,
   "id": "0ab8fd43",
   "metadata": {},
   "outputs": [
    {
     "data": {
      "text/plain": [
       "array([[ 1,  0,  0,  0],\n",
       "       [ 0,  8,  0,  0],\n",
       "       [ 0,  0, 23,  0],\n",
       "       [ 0,  0,  0, 19]])"
      ]
     },
     "execution_count": 17,
     "metadata": {},
     "output_type": "execute_result"
    }
   ],
   "source": [
    "np.array([\n",
    "    [1, 0, 0, 0],\n",
    "    [0 ,8 ,0 ,0 ],\n",
    "    [0 ,0 ,23 ,0 ],\n",
    "    [ 0, 0, 0, 19]])"
   ]
  },
  {
   "cell_type": "code",
   "execution_count": null,
   "id": "55d18fee",
   "metadata": {},
   "outputs": [],
   "source": []
  },
  {
   "cell_type": "code",
   "execution_count": null,
   "id": "c1e0639f",
   "metadata": {},
   "outputs": [],
   "source": []
  },
  {
   "cell_type": "code",
   "execution_count": null,
   "id": "4e9bebb1",
   "metadata": {},
   "outputs": [],
   "source": []
  },
  {
   "cell_type": "code",
   "execution_count": null,
   "id": "ccee8224",
   "metadata": {},
   "outputs": [],
   "source": []
  },
  {
   "cell_type": "code",
   "execution_count": null,
   "id": "a6c167ea",
   "metadata": {},
   "outputs": [],
   "source": []
  },
  {
   "cell_type": "code",
   "execution_count": null,
   "id": "23d1fc13",
   "metadata": {},
   "outputs": [],
   "source": []
  },
  {
   "cell_type": "code",
   "execution_count": null,
   "id": "89fc297c",
   "metadata": {},
   "outputs": [],
   "source": []
  },
  {
   "cell_type": "code",
   "execution_count": null,
   "id": "3f90c7e3",
   "metadata": {},
   "outputs": [],
   "source": []
  },
  {
   "cell_type": "code",
   "execution_count": null,
   "id": "ff2f7254",
   "metadata": {},
   "outputs": [],
   "source": []
  },
  {
   "cell_type": "code",
   "execution_count": null,
   "id": "896d0e8e",
   "metadata": {},
   "outputs": [],
   "source": []
  },
  {
   "cell_type": "code",
   "execution_count": null,
   "id": "8639c66c",
   "metadata": {},
   "outputs": [],
   "source": []
  }
 ],
 "metadata": {
  "kernelspec": {
   "display_name": "Python 3 (ipykernel)",
   "language": "python",
   "name": "python3"
  },
  "language_info": {
   "codemirror_mode": {
    "name": "ipython",
    "version": 3
   },
   "file_extension": ".py",
   "mimetype": "text/x-python",
   "name": "python",
   "nbconvert_exporter": "python",
   "pygments_lexer": "ipython3",
   "version": "3.9.7"
  }
 },
 "nbformat": 4,
 "nbformat_minor": 5
}
