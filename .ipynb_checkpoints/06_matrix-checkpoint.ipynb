{
 "cells": [
  {
   "cell_type": "markdown",
   "id": "513c382d",
   "metadata": {},
   "source": [
    "# Matrices\n",
    "\n",
    "\n",
    "Tabla formada por **m** filas y **n** columnas"
   ]
  },
  {
   "cell_type": "code",
   "execution_count": 11,
   "id": "7d6e6d6d",
   "metadata": {},
   "outputs": [],
   "source": [
    "import numpy as np"
   ]
  },
  {
   "cell_type": "markdown",
   "id": "6c75733c",
   "metadata": {},
   "source": [
    "## Matriz Fila\n",
    "  $\\begin{pmatrix} 1 & 2 & 3 \\end{pmatrix}$"
   ]
  },
  {
   "cell_type": "code",
   "execution_count": 12,
   "id": "a75edcb7",
   "metadata": {},
   "outputs": [
    {
     "data": {
      "text/plain": [
       "array([[1, 2, 3]])"
      ]
     },
     "execution_count": 12,
     "metadata": {},
     "output_type": "execute_result"
    }
   ],
   "source": [
    "np.array([[1,2,3]])"
   ]
  },
  {
   "cell_type": "markdown",
   "id": "0c76f05e",
   "metadata": {},
   "source": [
    "## Matriz Columna\n",
    "  $\\begin{pmatrix} 1 \\\\ 2 \\\\ 3 \\end{pmatrix}$"
   ]
  },
  {
   "cell_type": "code",
   "execution_count": 13,
   "id": "9a6ef7a9",
   "metadata": {},
   "outputs": [
    {
     "data": {
      "text/plain": [
       "array([[1],\n",
       "       [2],\n",
       "       [3]])"
      ]
     },
     "execution_count": 13,
     "metadata": {},
     "output_type": "execute_result"
    }
   ],
   "source": [
    "np.array([[1],[2],[3]])"
   ]
  },
  {
   "cell_type": "markdown",
   "id": "ff0b137c",
   "metadata": {},
   "source": [
    "## Matriz Nula\n",
    "Cuando todos sus elementos son nulos\n",
    "\n",
    " $\\begin{pmatrix} 0 & 0 & 0 \\\\ 0 & 0 & 0 \\\\ 0 & 0 & 0 \\end{pmatrix}$"
   ]
  },
  {
   "cell_type": "code",
   "execution_count": 14,
   "id": "5ad2c1f4",
   "metadata": {},
   "outputs": [
    {
     "data": {
      "text/plain": [
       "array([[0., 0., 0.],\n",
       "       [0., 0., 0.],\n",
       "       [0., 0., 0.]])"
      ]
     },
     "execution_count": 14,
     "metadata": {},
     "output_type": "execute_result"
    }
   ],
   "source": [
    "np.zeros((3,3))"
   ]
  },
  {
   "cell_type": "markdown",
   "id": "5257aa62",
   "metadata": {},
   "source": [
    "## Matriz Cuadrada\n",
    "Cuando filas y columnas son iguales\n",
    "\n",
    "ejemplo: cuadrada de orden 4\n",
    "\n",
    " $\\begin{pmatrix} 1 & 2 & 3 & 3 \\\\ 7 & 8 & 9 & 1 \\\\ 12 & 11 & 23 & 9 \\\\ 2 & 31 & 63 & 19 \\end{pmatrix}$"
   ]
  },
  {
   "cell_type": "code",
   "execution_count": 16,
   "id": "fb4358d7",
   "metadata": {},
   "outputs": [
    {
     "data": {
      "text/plain": [
       "array([[ 1,  2,  3,  3],\n",
       "       [ 7,  8,  9,  1],\n",
       "       [12, 11, 23,  9],\n",
       "       [ 2, 31, 63, 19]])"
      ]
     },
     "execution_count": 16,
     "metadata": {},
     "output_type": "execute_result"
    }
   ],
   "source": [
    "np.array([\n",
    "    [1, 2, 3, 3],\n",
    "    [7 ,8 ,9 ,1 ],\n",
    "    [12 ,11 ,23 ,9 ],\n",
    "    [ 2, 31, 63, 19]])"
   ]
  },
  {
   "cell_type": "markdown",
   "id": "04b0e42a",
   "metadata": {},
   "source": [
    "## Matriz Diagonal\n",
    "\n",
    "Se denomina **Diagonal Principal** a la diagonal de la matriz que va de [A11, A22, ... Ann]\n",
    "\n",
    "Una matriz diagonal es la que tienen todos sus elementos, a excepcion de la diagonal principal, en nulo\n",
    "\n",
    " $\\begin{pmatrix} 1 & 0 & 0 & 0 \\\\ 0 & 8 & 0 & 0 \\\\ 0 & 0 & 23 & 0 \\\\ 0 & 0 & 0 & 19 \\end{pmatrix}$"
   ]
  },
  {
   "cell_type": "code",
   "execution_count": 17,
   "id": "63db46dd",
   "metadata": {},
   "outputs": [
    {
     "data": {
      "text/plain": [
       "array([[ 1,  0,  0,  0],\n",
       "       [ 0,  8,  0,  0],\n",
       "       [ 0,  0, 23,  0],\n",
       "       [ 0,  0,  0, 19]])"
      ]
     },
     "execution_count": 17,
     "metadata": {},
     "output_type": "execute_result"
    }
   ],
   "source": [
    "np.array([\n",
    "    [1, 0, 0, 0],\n",
    "    [0 ,8 ,0 ,0 ],\n",
    "    [0 ,0 ,23 ,0 ],\n",
    "    [ 0, 0, 0, 19]])"
   ]
  },
  {
   "cell_type": "code",
   "execution_count": null,
   "id": "f72622c8",
   "metadata": {},
   "outputs": [],
   "source": []
  },
  {
   "cell_type": "code",
   "execution_count": null,
   "id": "6c5c1039",
   "metadata": {},
   "outputs": [],
   "source": []
  },
  {
   "cell_type": "code",
   "execution_count": null,
   "id": "2cf736e3",
   "metadata": {},
   "outputs": [],
   "source": []
  },
  {
   "cell_type": "code",
   "execution_count": null,
   "id": "251da5c6",
   "metadata": {},
   "outputs": [],
   "source": []
  },
  {
   "cell_type": "code",
   "execution_count": null,
   "id": "a9af8e05",
   "metadata": {},
   "outputs": [],
   "source": []
  },
  {
   "cell_type": "code",
   "execution_count": null,
   "id": "3a4e4737",
   "metadata": {},
   "outputs": [],
   "source": []
  },
  {
   "cell_type": "code",
   "execution_count": null,
   "id": "ce15a89f",
   "metadata": {},
   "outputs": [],
   "source": []
  },
  {
   "cell_type": "code",
   "execution_count": null,
   "id": "243c76de",
   "metadata": {},
   "outputs": [],
   "source": []
  },
  {
   "cell_type": "code",
   "execution_count": null,
   "id": "b538505d",
   "metadata": {},
   "outputs": [],
   "source": []
  },
  {
   "cell_type": "code",
   "execution_count": null,
   "id": "91255f63",
   "metadata": {},
   "outputs": [],
   "source": []
  },
  {
   "cell_type": "code",
   "execution_count": null,
   "id": "24470e79",
   "metadata": {},
   "outputs": [],
   "source": []
  }
 ],
 "metadata": {
  "kernelspec": {
   "display_name": "Python 3 (ipykernel)",
   "language": "python",
   "name": "python3"
  },
  "language_info": {
   "codemirror_mode": {
    "name": "ipython",
    "version": 3
   },
   "file_extension": ".py",
   "mimetype": "text/x-python",
   "name": "python",
   "nbconvert_exporter": "python",
   "pygments_lexer": "ipython3",
   "version": "3.9.7"
  }
 },
 "nbformat": 4,
 "nbformat_minor": 5
}
