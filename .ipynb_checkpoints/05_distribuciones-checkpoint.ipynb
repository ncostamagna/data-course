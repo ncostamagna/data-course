{
 "cells": [
  {
   "cell_type": "markdown",
   "id": "4e6c2876",
   "metadata": {},
   "source": [
    "# Distribuciones Discretas\n",
    "\n",
    "## Distribucion Bernuli\n",
    "X como VA que mide el numero de exitos\n",
    "\n",
    "$$X = Be(p)$$\n",
    "\n",
    "- 1 exito\n",
    "- 0 fracaso \n",
    "\n",
    "Tiras una moneda al aire y el exito sera cara y fracaso cruz\n",
    "\n",
    "- p es la probabilidad de exito\n",
    "- y q = p - 1 la probabilidad de fracaso\n",
    "\n",
    "```py\n",
    "bernoulli.pmf(1,0.7)\n",
    "bernoulli.rvs(p, size = 1000)\n",
    "```"
   ]
  },
  {
   "cell_type": "code",
   "execution_count": 1,
   "id": "a3411fdc",
   "metadata": {},
   "outputs": [],
   "source": [
    "from scipy.stats import bernoulli\n",
    "import matplotlib.pyplot as plt"
   ]
  },
  {
   "cell_type": "code",
   "execution_count": 13,
   "id": "6e35413c",
   "metadata": {},
   "outputs": [
    {
     "data": {
      "text/plain": [
       "0.30000000000000004"
      ]
     },
     "execution_count": 13,
     "metadata": {},
     "output_type": "execute_result"
    }
   ],
   "source": [
    "# probabilidad de exito o fracaso\n",
    "bernoulli.pmf(1,0.7) # 0.7\n",
    "bernoulli.pmf(0,0.7) # 0.3"
   ]
  },
  {
   "cell_type": "code",
   "execution_count": 4,
   "id": "241bbe05",
   "metadata": {},
   "outputs": [
    {
     "data": {
      "image/png": "[encoded data removed]",
      "text/plain": [
       "<Figure size 432x288 with 1 Axes>"
      ]
     },
     "metadata": {
      "needs_background": "light"
     },
     "output_type": "display_data"
    }
   ],
   "source": [
    "p = 0.7\n",
    "fix, ax = plt.subplots(1,1)\n",
    "x = bernoulli.rvs(p, size = 1000)\n",
    "ax.hist(x)\n",
    "plt.show()"
   ]
  },
  {
   "cell_type": "markdown",
   "id": "49d66985",
   "metadata": {},
   "source": [
    "## Distribucion Binomial\n",
    "\n",
    "No solo exito y fracaso, sino tambien el numero de exitos (numero de ensayos)\n",
    "\n",
    "$$X = B(n,p)$$\n",
    "\n",
    "- n: numero de veces\n",
    "- p: probabilidad de exito\n",
    "- q: probabilidad de fracaso\n",
    "\n",
    "de n valores, la probabilidad que tenga un exito de k veces.\n",
    "\n",
    "Tiro 7 veces la moneda al aire, que probabilidad tengo que me salgan 3 caras\n",
    "\n",
    "```py\n",
    "binom.pmf(2, 7, 0.5)\n",
    "binom.rvs(n, p, size = 10000)\n",
    "```"
   ]
  },
  {
   "cell_type": "code",
   "execution_count": 2,
   "id": "a37a0a3e",
   "metadata": {},
   "outputs": [],
   "source": [
    "from scipy.stats import binom \n",
    "import matplotlib.pyplot as plt\n",
    "import numpy as np"
   ]
  },
  {
   "cell_type": "code",
   "execution_count": 3,
   "id": "ffd151bf",
   "metadata": {},
   "outputs": [
    {
     "data": {
      "text/plain": [
       "0.16406250000000003"
      ]
     },
     "execution_count": 3,
     "metadata": {},
     "output_type": "execute_result"
    }
   ],
   "source": [
    "# de 7, la posibilidad que salgan 2 (ni mas ni menos) exitos con una probabilidad de 50%\n",
    "binom.pmf(2, 7, 0.5)"
   ]
  },
  {
   "cell_type": "code",
   "execution_count": 4,
   "id": "fb178d4d",
   "metadata": {},
   "outputs": [
    {
     "data": {
      "text/plain": [
       "1.0"
      ]
     },
     "execution_count": 4,
     "metadata": {},
     "output_type": "execute_result"
    }
   ],
   "source": [
    "binom.cdf(45,50,0.1) # amuculada"
   ]
  },
  {
   "cell_type": "code",
   "execution_count": 14,
   "id": "a7db01a9",
   "metadata": {},
   "outputs": [
    {
     "name": "stdout",
     "output_type": "stream",
     "text": [
      "0.9921874999999998\n"
     ]
    }
   ],
   "source": [
    "# que salga por lo menos 1\n",
    "\n",
    "v = 0\n",
    "\n",
    "for i in range(7):\n",
    "    v = v + binom.pmf(i+1, 7, 0.5)\n",
    "    \n",
    "print(v)"
   ]
  },
  {
   "cell_type": "code",
   "execution_count": 15,
   "id": "94ca4535",
   "metadata": {},
   "outputs": [
    {
     "data": {
      "text/plain": [
       "0.9921875"
      ]
     },
     "execution_count": 15,
     "metadata": {},
     "output_type": "execute_result"
    }
   ],
   "source": [
    "1 - binom.pmf(0, 7, 0.5)"
   ]
  },
  {
   "cell_type": "code",
   "execution_count": 51,
   "id": "b3cf06ee",
   "metadata": {},
   "outputs": [
    {
     "data": {
      "image/png": "[encoded data removed]",
      "text/plain": [
       "<Figure size 432x288 with 1 Axes>"
      ]
     },
     "metadata": {
      "needs_background": "light"
     },
     "output_type": "display_data"
    }
   ],
   "source": [
    "\n",
    "n = 7\n",
    "p = 0.5\n",
    "fig, ax = plt.subplots(1,1)\n",
    "r = binom.rvs(n, p, size = 10000)\n",
    "ax.hist(r, bins = n)\n",
    "plt.show()"
   ]
  },
  {
   "cell_type": "markdown",
   "id": "b19b4073",
   "metadata": {},
   "source": [
    "## Distribucion Geometrica\n",
    "\n",
    "X mide el numero de repeticiones HASTA haber conseguido el exito\n",
    "\n",
    "$$X = Ge(p)$$\n",
    "\n",
    "- p: probabilidad de exitos\n",
    "- q = 1 - p: probabilidad de fracasos\n",
    "\n"
   ]
  },
  {
   "cell_type": "code",
   "execution_count": 59,
   "id": "c7a9098c",
   "metadata": {},
   "outputs": [],
   "source": [
    "from scipy.stats import geom\n",
    "import matplotlib.pyplot as plt\n",
    "import numpy as np"
   ]
  },
  {
   "cell_type": "code",
   "execution_count": 88,
   "id": "583a11d6",
   "metadata": {},
   "outputs": [
    {
     "data": {
      "text/plain": [
       "0.08100000000000002"
      ]
     },
     "execution_count": 88,
     "metadata": {},
     "output_type": "execute_result"
    }
   ],
   "source": [
    "geom.pmf(3,0.1) # probalidad que sea exito en la 3ra repeticion"
   ]
  },
  {
   "cell_type": "code",
   "execution_count": 55,
   "id": "cbce37f9",
   "metadata": {},
   "outputs": [
    {
     "data": {
      "image/png": "[encoded data removed]",
      "text/plain": [
       "<Figure size 432x288 with 1 Axes>"
      ]
     },
     "metadata": {
      "needs_background": "light"
     },
     "output_type": "display_data"
    }
   ],
   "source": [
    "p = 0.3\n",
    "fig, ax = plt.subplots(1,1)\n",
    "r = geom.rvs(p, size = 10000)\n",
    "plt.hist(r)\n",
    "plt.show()"
   ]
  },
  {
   "cell_type": "markdown",
   "id": "d92c6395",
   "metadata": {},
   "source": [
    "## Distribucion Hipergeometrica\n",
    "\n",
    "Se exatre a la vez **n** objetos, los sacamos y no los devolvemos, donde hay **N** de tipo **A** y **M** de tipo **B**\n",
    "\n",
    "$$X = H(N,M,n)$$\n",
    "\n",
    "- M: numero total de objetos\n",
    "- N: numero de objetos del 1er tipo\n",
    "- n: extracciones realizadas\n",
    "\n",
    "Tenemos 20 animales, entre ellos perros y gatos, haciendo la extraccion cual es la probabilidad de sacar una cantidad de gatos y una cantidad de perros\n"
   ]
  },
  {
   "cell_type": "code",
   "execution_count": 17,
   "id": "b5c70ec3",
   "metadata": {},
   "outputs": [],
   "source": [
    "from scipy.stats import hypergeom\n",
    "import matplotlib.pyplot as plt\n",
    "import numpy as np"
   ]
  },
  {
   "cell_type": "code",
   "execution_count": 69,
   "id": "ff022809",
   "metadata": {},
   "outputs": [],
   "source": [
    "M = 30 # total de objetos\n",
    "n = 10 # extracciones\n",
    "N = 8 #objetos del primer tipo\n"
   ]
  },
  {
   "cell_type": "code",
   "execution_count": 70,
   "id": "48ea0cf3",
   "metadata": {},
   "outputs": [
    {
     "name": "stdout",
     "output_type": "stream",
     "text": [
      "2.15% de sacar 0 perros\n",
      "13.24% de sacar 1 perros\n",
      "29.8% de sacar 2 perros\n",
      "31.79% de sacar 3 perros\n",
      "17.38% de sacar 4 perros\n",
      "4.91% de sacar 5 perros\n",
      "0.68% de sacar 6 perros\n",
      "0.04% de sacar 7 perros\n",
      "0.0% de sacar 8 perros\n",
      "0.0% de sacar 9 perros\n",
      "0.0% de sacar 10 perros\n"
     ]
    }
   ],
   "source": [
    "rv = hypergeom(M, n, N)\n",
    "x = np.arange(0, n+1)\n",
    "y = rv.pmf(x)\n",
    "\n",
    "for i in range(n+1):\n",
    "    print(\"{}% de sacar {} perros\".format(round(y[i]*100,2),x[i]))"
   ]
  },
  {
   "cell_type": "code",
   "execution_count": 71,
   "id": "b1cec8c6",
   "metadata": {},
   "outputs": [
    {
     "data": {
      "image/png": "[encoded data removed]",
      "text/plain": [
       "<Figure size 432x288 with 1 Axes>"
      ]
     },
     "metadata": {
      "needs_background": "light"
     },
     "output_type": "display_data"
    }
   ],
   "source": [
    "fig = plt.figure()\n",
    "ax = fig.add_subplot(111)\n",
    "ax.plot(x, y, 'bo' )\n",
    "ax.vlines(x,0,y, lw = 2, alpha = 0.5)\n",
    "ax.set_xlabel(\"Número de perros entre los 12 elegidos al azar\")\n",
    "ax.set_ylabel(\"Distribución de probabilidad de H(13,7,12)\")\n",
    "plt.show()"
   ]
  },
  {
   "cell_type": "markdown",
   "id": "f3661a08",
   "metadata": {},
   "source": [
    "## Distribucion Poisson\n",
    "\n",
    "X es VA que mide el numero de eventos en un cierto intervalo de tiempo, numero de veces que ocurre un evento en un intervalo de tiempo\n",
    "\n",
    "$$ X = Po(\\lambda)$$\n",
    "\n",
    "- lambda o mu son el numero esperado de eventos por unidad de tiempo\n",
    "- x numero de eventos que ocurren en un intervalo de tiempo\n",
    "\n",
    "\n",
    "Atiendo en una veterinaria y calcular la probabilidad de que lleguen cierta cantidad de pasientes en un dia.\n",
    "\n",
    "- X: numero de pasientes que llegan por dia (podria ser tambien n de eveces que llega un auto en 8 horas), podemos trabajar como tiempo, volumen o distancia\n",
    "- Mu: numero esperado que llega por dia\n",
    "\n",
    "Por dia se espera que entren 4 pasientes, cual es la probabilidad que entren 3 en un dia\n",
    "\n",
    "```py\n",
    "x = 3\n",
    "mu = 4\n",
    "poisson.pmf(x, mu)\n",
    "```"
   ]
  },
  {
   "cell_type": "code",
   "execution_count": 88,
   "id": "ec01368a",
   "metadata": {},
   "outputs": [],
   "source": [
    "import numpy as np\n",
    "from scipy.stats import poisson\n",
    "import matplotlib.pyplot as plt"
   ]
  },
  {
   "cell_type": "code",
   "execution_count": 89,
   "id": "f4cc711d",
   "metadata": {},
   "outputs": [],
   "source": [
    "mu = 4\n",
    "x = np.arange(0, 5)"
   ]
  },
  {
   "cell_type": "code",
   "execution_count": 90,
   "id": "dda0d8a7",
   "metadata": {},
   "outputs": [
    {
     "data": {
      "text/plain": [
       "array([0.01831564, 0.07326256, 0.14652511, 0.19536681, 0.19536681])"
      ]
     },
     "execution_count": 90,
     "metadata": {},
     "output_type": "execute_result"
    }
   ],
   "source": [
    " poisson.pmf(x, mu)"
   ]
  },
  {
   "cell_type": "code",
   "execution_count": 91,
   "id": "0a259358",
   "metadata": {},
   "outputs": [
    {
     "data": {
      "text/plain": [
       "1.9536681481316454e-01"
      ]
     },
     "execution_count": 91,
     "metadata": {},
     "output_type": "execute_result"
    }
   ],
   "source": [
    "# por dia se espera que etren 4 pasientes, cual es la probabilidad que entren 3 en un dia\n",
    "poisson.pmf(3, 4)"
   ]
  },
  {
   "cell_type": "markdown",
   "id": "60bab52d",
   "metadata": {},
   "source": [
    "# Distribuciones Continuas\n",
    "\n",
    "## Distribucion Uniforme\n",
    "\n",
    "$$X = U(a,b)$$\n",
    "\n",
    "- Siempre y cuando **1/(b-a)** esta en **(a,b)** \n",
    "\n",
    "- 0 para x < a\n",
    "- 1/(b-a) para a <= x <= b\n",
    "- 0 para b > x\n",
    "\n",
    "$$M=\\begin{equation}\n",
    "\\left\\{ \n",
    "  \\begin{aligned}\n",
    "    \\frac{1}{b-a} && Si &&X\\epsilon(a,b)&\n",
    "    \\\\\n",
    "    \\\\\n",
    "    0 && No && X\\epsilon(a,b)&\n",
    "  \\end{aligned}\n",
    "  \\right.\n",
    "\\end{equation}\n",
    "$$"
   ]
  },
  {
   "cell_type": "code",
   "execution_count": 37,
   "id": "70a5773b",
   "metadata": {},
   "outputs": [],
   "source": [
    "from scipy.stats import uniform\n",
    "import matplotlib.pyplot as plt \n",
    "import numpy as np"
   ]
  },
  {
   "cell_type": "code",
   "execution_count": 38,
   "id": "cef2e85d",
   "metadata": {},
   "outputs": [
    {
     "name": "stdout",
     "output_type": "stream",
     "text": [
      "0.5\n",
      "0.0\n",
      "0.5\n",
      "0.0\n",
      "0.0\n",
      "0.0\n"
     ]
    }
   ],
   "source": [
    "a = 2\n",
    "b = 4\n",
    "loc = a\n",
    "scale = b-a\n",
    "\n",
    "rv = uniform(loc = loc, scale = scale)\n",
    "\n",
    "# rango entre \n",
    "# 1/(a-b) => 1/(4-2) => 0.5 (para los que esten en ese rango (2,4))\n",
    "print(rv.pdf(2.0))\n",
    "print(rv.pdf(1.2))\n",
    "print(rv.pdf(2.1))\n",
    "print(rv.pdf(0))\n",
    "print(rv.pdf(1.5))\n",
    "print(rv.pdf(0.5))"
   ]
  },
  {
   "cell_type": "code",
   "execution_count": 43,
   "id": "4815fdbe",
   "metadata": {},
   "outputs": [
    {
     "name": "stdout",
     "output_type": "stream",
     "text": [
      "0.16666666666666666\n",
      "0.0\n",
      "0.0\n",
      "0.16666666666666666\n",
      "0.0\n",
      "0.0\n"
     ]
    }
   ],
   "source": [
    "a = 3\n",
    "b = 9\n",
    "loc = a\n",
    "scale = b-a\n",
    "\n",
    "rv = uniform(loc = loc, scale = scale)\n",
    "\n",
    "# rango entre \n",
    "# 1/(a-b) => 1/(9-3) => 0.166 (para los que esten en ese rango (3,9))\n",
    "print(rv.pdf(3.4))\n",
    "print(rv.pdf(1.2))\n",
    "print(rv.pdf(2.1))\n",
    "print(rv.pdf(6))\n",
    "print(rv.pdf(1.5))\n",
    "print(rv.pdf(18.5))"
   ]
  },
  {
   "cell_type": "code",
   "execution_count": 40,
   "id": "aeab49fe",
   "metadata": {},
   "outputs": [
    {
     "data": {
      "text/plain": [
       "array([0., 0., 0., 0., 0., 0., 0., 0., 0., 0., 1., 1., 1., 1., 1., 1., 1.,\n",
       "       1., 1., 1., 1., 1., 1., 1., 1., 1., 1., 1., 1., 1., 1., 1., 1., 1.,\n",
       "       1., 1., 1., 1., 1., 1., 1., 1., 1., 1., 1., 1., 1., 1., 1., 1., 1.,\n",
       "       1., 1., 1., 1., 1., 1., 1., 1., 1., 1., 1., 1., 1., 1., 1., 1., 1.,\n",
       "       1., 1., 1., 1., 1., 1., 1., 1., 1., 1., 1., 1., 1., 1., 1., 1., 1.,\n",
       "       1., 1., 1., 1., 1., 1., 1., 1., 1., 1., 1., 1., 1., 1., 1., 1., 1.,\n",
       "       1., 1., 1., 1., 1., 1., 1., 1., 0., 0., 0., 0., 0., 0., 0., 0., 0.,\n",
       "       0.])"
      ]
     },
     "execution_count": 40,
     "metadata": {},
     "output_type": "execute_result"
    }
   ],
   "source": [
    "a = 0\n",
    "b = 1\n",
    "\n",
    "loc = a\n",
    "scale = b-a\n",
    "\n",
    "rv = uniform(loc = loc, scale = scale)\n",
    "x = np.linspace(-0.1, 1.1, 120) # 120 valores luneales entre -0.1 y 1.1\n",
    "rv.pdf(x)"
   ]
  },
  {
   "cell_type": "code",
   "execution_count": 42,
   "id": "cc84925b",
   "metadata": {},
   "outputs": [
    {
     "data": {
      "image/png": "[encoded data removed]",
      "text/plain": [
       "<Figure size 432x288 with 1 Axes>"
      ]
     },
     "metadata": {
      "needs_background": "light"
     },
     "output_type": "display_data"
    }
   ],
   "source": [
    "fig, ax = plt.subplots(1,1)\n",
    "ax.plot(x, rv.pdf(x), 'k-', lw = 2, label = \"U(0,1)\")\n",
    "\n",
    "r = rv.rvs(size = 100000) # genero datos randoms uniformes entre ese rango\n",
    "ax.hist(r, density = True, histtype = \"stepfilled\", alpha = 0.25)\n",
    "ax.legend(loc = 'best', frameon = False)\n",
    "plt.show()"
   ]
  },
  {
   "cell_type": "markdown",
   "id": "0ed934d5",
   "metadata": {},
   "source": [
    "## Distribucion Normal\n",
    "\n",
    "Distribucion de datos normales (como pueden ser altura, perso etc)\n",
    "La media, moda y mediana son el mismo valor, distribucion simetrica\n",
    "\n",
    "$$X = N(\\mu, \\sigma)$$\n",
    "- mu: media poblacional\n",
    "- sigma: desviacion tipica\n",
    "\n",
    "mientras mas elevada sea la **desviacion tipica**, mas plana va a ser la curba (heterogenea).\n",
    "Cuando la deviacion tipica es baja es homogenea.\n",
    "\n",
    "\n",
    "```py\n",
    "norm.ppf() #por defecto es mu (loc) = 0 y sigma (scale) = 1 \n",
    "```\n",
    "\n"
   ]
  },
  {
   "cell_type": "code",
   "execution_count": 40,
   "id": "5a629628",
   "metadata": {},
   "outputs": [],
   "source": [
    "from scipy.stats import norm\n",
    "import matplotlib.pyplot as plt\n",
    "import numpy as np\n",
    "\n",
    "rv = norm()"
   ]
  },
  {
   "cell_type": "code",
   "execution_count": 64,
   "id": "1e4a02fd",
   "metadata": {},
   "outputs": [
    {
     "data": {
      "text/plain": [
       "array([-3.09023231,  0.        ,  3.09023231,  6.36134089])"
      ]
     },
     "execution_count": 64,
     "metadata": {},
     "output_type": "execute_result"
    }
   ],
   "source": [
    "\n",
    "# calculo la normal de los valores, (van de 0 a 1, porque mu es 0 y sigma es 1)\n",
    "# 0 es -inf y 1 es inf\n",
    "vals = norm.ppf([0.001, 0.5, 0.999, 0.9999999999]) \n",
    "vals"
   ]
  },
  {
   "cell_type": "code",
   "execution_count": 91,
   "id": "a1c5d5d8",
   "metadata": {},
   "outputs": [
    {
     "data": {
      "text/plain": [
       "array([-4.18046461,  2.        ,  8.18046461, 14.72268178])"
      ]
     },
     "execution_count": 91,
     "metadata": {},
     "output_type": "execute_result"
    }
   ],
   "source": [
    "vals = norm.ppf([0.001, 0.5, 0.999, 0.9999999999], loc = 2, scale=2) # media de 2 y 6 para cada lado\n",
    "vals"
   ]
  },
  {
   "cell_type": "code",
   "execution_count": 92,
   "id": "b4600a4b",
   "metadata": {},
   "outputs": [
    {
     "data": {
      "image/png": "[encoded data removed]",
      "text/plain": [
       "<Figure size 432x288 with 1 Axes>"
      ]
     },
     "metadata": {
      "needs_background": "light"
     },
     "output_type": "display_data"
    }
   ],
   "source": [
    "\n",
    "r = norm.rvs(size=1000)\n",
    "\n",
    "x = np.linspace(norm.ppf(0.01),\n",
    "                norm.ppf(0.99), 100)\n",
    "fig, ax = plt.subplots(1, 1)\n",
    "ax.plot(x, norm.pdf(x),\n",
    "       'r-', lw=5, alpha=0.6, label='norm pdf')\n",
    "ax.hist(r, density=True, histtype='stepfilled', alpha=0.2)\n",
    "ax.legend(loc='best', frameon=False)\n",
    "plt.show()"
   ]
  },
  {
   "cell_type": "code",
   "execution_count": 93,
   "id": "33064753",
   "metadata": {},
   "outputs": [
    {
     "data": {
      "image/png": "[encoded data removed]",
      "text/plain": [
       "<Figure size 432x288 with 1 Axes>"
      ]
     },
     "metadata": {
      "needs_background": "light"
     },
     "output_type": "display_data"
    }
   ],
   "source": [
    "\n",
    "r = norm.rvs(size=1000, loc= 2, scale=2)\n",
    "\n",
    "fig, ax = plt.subplots(1, 1)\n",
    "\n",
    "ax.hist(r, density=True, histtype='stepfilled', alpha=0.2)\n",
    "\n",
    "plt.show()"
   ]
  },
  {
   "cell_type": "code",
   "execution_count": 94,
   "id": "ea20be59",
   "metadata": {},
   "outputs": [
    {
     "data": {
      "text/plain": [
       "6.6526957480816815e+00"
      ]
     },
     "execution_count": 94,
     "metadata": {},
     "output_type": "execute_result"
    }
   ],
   "source": [
    "norm.ppf(0.01, loc= 2, scale=2)\n",
    "norm.ppf(0.99, loc= 2, scale=2)"
   ]
  },
  {
   "cell_type": "code",
   "execution_count": null,
   "id": "a93e1370",
   "metadata": {},
   "outputs": [],
   "source": []
  }
 ],
 "metadata": {
  "kernelspec": {
   "display_name": "Python 3 (ipykernel)",
   "language": "python",
   "name": "python3"
  },
  "language_info": {
   "codemirror_mode": {
    "name": "ipython",
    "version": 3
   },
   "file_extension": ".py",
   "mimetype": "text/x-python",
   "name": "python",
   "nbconvert_exporter": "python",
   "pygments_lexer": "ipython3",
   "version": "3.9.7"
  }
 },
 "nbformat": 4,
 "nbformat_minor": 5
}
